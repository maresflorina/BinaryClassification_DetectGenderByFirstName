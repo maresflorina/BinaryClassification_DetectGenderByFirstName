{
 "cells": [
  {
   "cell_type": "code",
   "execution_count": 126,
   "metadata": {},
   "outputs": [],
   "source": [
    "#!pip install tensorflow\n",
    "#!pip install tensorflow pandas --quiet\n",
    "#!pip install matplotlib\n"
   ]
  },
  {
   "cell_type": "code",
   "execution_count": 127,
   "id": "68d20f26",
   "metadata": {},
   "outputs": [],
   "source": [
    "\n",
    "# Step 1: Import Libraries\n",
    "import pandas as pd\n",
    "import numpy as np\n",
    "import tensorflow as tf\n",
    "from tensorflow.keras.preprocessing.text import Tokenizer\n",
    "from tensorflow.keras.preprocessing.sequence import pad_sequences\n",
    "from tensorflow.keras.models import Sequential\n",
    "from tensorflow.keras.layers import Embedding, LSTM, Dense, Dropout\n",
    "from sklearn.preprocessing import LabelEncoder\n",
    "import matplotlib.pyplot as plt\n",
    "import pickle"
   ]
  },
  {
   "cell_type": "code",
   "execution_count": 128,
   "metadata": {},
   "outputs": [
    {
     "data": {
      "text/html": [
       "<div>\n",
       "<style scoped>\n",
       "    .dataframe tbody tr th:only-of-type {\n",
       "        vertical-align: middle;\n",
       "    }\n",
       "\n",
       "    .dataframe tbody tr th {\n",
       "        vertical-align: top;\n",
       "    }\n",
       "\n",
       "    .dataframe thead th {\n",
       "        text-align: right;\n",
       "    }\n",
       "</style>\n",
       "<table border=\"1\" class=\"dataframe\">\n",
       "  <thead>\n",
       "    <tr style=\"text-align: right;\">\n",
       "      <th></th>\n",
       "      <th>Name</th>\n",
       "      <th>Gender</th>\n",
       "    </tr>\n",
       "  </thead>\n",
       "  <tbody>\n",
       "    <tr>\n",
       "      <th>0</th>\n",
       "      <td>James</td>\n",
       "      <td>M</td>\n",
       "    </tr>\n",
       "    <tr>\n",
       "      <th>1</th>\n",
       "      <td>John</td>\n",
       "      <td>M</td>\n",
       "    </tr>\n",
       "    <tr>\n",
       "      <th>2</th>\n",
       "      <td>Robert</td>\n",
       "      <td>M</td>\n",
       "    </tr>\n",
       "    <tr>\n",
       "      <th>3</th>\n",
       "      <td>Michael</td>\n",
       "      <td>M</td>\n",
       "    </tr>\n",
       "    <tr>\n",
       "      <th>4</th>\n",
       "      <td>William</td>\n",
       "      <td>M</td>\n",
       "    </tr>\n",
       "  </tbody>\n",
       "</table>\n",
       "</div>"
      ],
      "text/plain": [
       "      Name Gender\n",
       "0    James      M\n",
       "1     John      M\n",
       "2   Robert      M\n",
       "3  Michael      M\n",
       "4  William      M"
      ]
     },
     "execution_count": 128,
     "metadata": {},
     "output_type": "execute_result"
    }
   ],
   "source": [
    "# Step 2: Load Dataset\n",
    "df = pd.read_csv(\"15K_Names_Dataset_MLTraining.csv\")\n",
    "df.head()"
   ]
  },
  {
   "cell_type": "code",
   "execution_count": 129,
   "id": "6f0d3a2d",
   "metadata": {},
   "outputs": [
    {
     "name": "stdout",
     "output_type": "stream",
     "text": [
      "           Name Gender\n",
      "0         james      M\n",
      "1          john      M\n",
      "2        robert      M\n",
      "3       michael      M\n",
      "4       william      M\n",
      "...         ...    ...\n",
      "14995  euphemia      F\n",
      "14996    gordon      F\n",
      "14997    kaylon      F\n",
      "14998  kennadie      F\n",
      "14999    lynnda      F\n",
      "\n",
      "[15000 rows x 2 columns]\n",
      "(15000, 2)\n"
     ]
    }
   ],
   "source": [
    "# Step 3: Preprocessing - cleanup\n",
    "# Drop any rows with missing values\n",
    "df = df.dropna(subset=[\"Name\", \"Gender\"])\n",
    "\n",
    "# Normalize case\n",
    "df['Name'] = df['Name'].str.strip().str.lower()\n",
    "df['Gender'] = df['Gender'].str.strip().str.upper()\n",
    "\n",
    "# Filter only 'male' and 'female'\n",
    "df = df[df['Gender'].isin(['M', 'F'])]\n",
    "\n",
    "print(df)\n",
    "print(df.shape) #initial shape: 15000 rows, 2 columns"
   ]
  },
  {
   "cell_type": "code",
   "execution_count": 130,
   "metadata": {},
   "outputs": [
    {
     "name": "stdout",
     "output_type": "stream",
     "text": [
      "<class 'pandas.core.frame.DataFrame'>\n",
      "RangeIndex: 15000 entries, 0 to 14999\n",
      "Data columns (total 2 columns):\n",
      " #   Column  Non-Null Count  Dtype \n",
      "---  ------  --------------  ----- \n",
      " 0   Name    15000 non-null  object\n",
      " 1   Gender  15000 non-null  object\n",
      "dtypes: object(2)\n",
      "memory usage: 234.5+ KB\n",
      "None\n",
      "Gender\n",
      "F    9006\n",
      "M    5994\n",
      "Name: count, dtype: int64\n"
     ]
    }
   ],
   "source": [
    "# Step 4: Basic Data Exploration\n",
    "print(df.info())\n",
    "print(df['Gender'].value_counts())"
   ]
  },
  {
   "cell_type": "code",
   "execution_count": 131,
   "id": "0bb3d2d1",
   "metadata": {},
   "outputs": [
    {
     "data": {
      "image/png": "[encoded data removed]",
      "text/plain": [
       "<Figure size 640x480 with 1 Axes>"
      ]
     },
     "metadata": {},
     "output_type": "display_data"
    }
   ],
   "source": [
    "# display the class distribution\n",
    "df['Gender'].value_counts(normalize=True) * 100\n",
    "\n",
    "df['Gender'].value_counts(normalize=True).plot(kind='pie', color=['skyblue', 'lightcoral'])\n",
    "plt.title('Class Distribution')\n",
    "plt.xlabel('Gender')\n",
    "plt.ylabel('Percentage')\n",
    "plt.xticks(rotation=0)\n",
    "plt.show()"
   ]
  },
  {
   "cell_type": "code",
   "execution_count": 132,
   "id": "f3882797",
   "metadata": {},
   "outputs": [
    {
     "name": "stdout",
     "output_type": "stream",
     "text": [
      "           Name Gender\n",
      "0         james      M\n",
      "1          john      M\n",
      "2        robert      M\n",
      "3       michael      M\n",
      "4       william      M\n",
      "...         ...    ...\n",
      "14977     rikki      M\n",
      "14987  demetrus      M\n",
      "14988    dillen      M\n",
      "14989     izell      M\n",
      "14990       moe      M\n",
      "\n",
      "[5994 rows x 2 columns]\n",
      "            Name Gender\n",
      "5           mary      F\n",
      "14     elizabeth      F\n",
      "15      patricia      F\n",
      "16      jennifer      F\n",
      "19         linda      F\n",
      "...          ...    ...\n",
      "14995   euphemia      F\n",
      "14996     gordon      F\n",
      "14997     kaylon      F\n",
      "14998   kennadie      F\n",
      "14999     lynnda      F\n",
      "\n",
      "[9006 rows x 2 columns]\n",
      "(5994, 2)\n",
      "(9006, 2)\n",
      "           Name Gender\n",
      "14504     azlyn      F\n",
      "11006  christyn      F\n",
      "12549   nikkole      F\n",
      "5289      nilda      F\n",
      "1672      abbie      F\n",
      "...         ...    ...\n",
      "13760  shealynn      F\n",
      "1571      brynn      F\n",
      "3867    tressie      F\n",
      "4448     blaire      F\n",
      "10161    alijah      F\n",
      "\n",
      "[5994 rows x 2 columns]\n"
     ]
    },
    {
     "data": {
      "text/plain": [
       "Gender\n",
       "M    50.0\n",
       "F    50.0\n",
       "Name: proportion, dtype: float64"
      ]
     },
     "execution_count": 132,
     "metadata": {},
     "output_type": "execute_result"
    }
   ],
   "source": [
    "# We need 50% distribution for both classes\n",
    "#print(df)\n",
    "# Split by class\n",
    "df_male = df[df['Gender'] == 'M']\n",
    "df_female = df[df['Gender'] == 'F']\n",
    "\n",
    "print(df_male)\n",
    "print(df_female)\n",
    "print(df_male.shape)\n",
    "print(df_female.shape)\n",
    "# Undersample female to match male\n",
    "df_female_balanced = df_female.sample(n=len(df_male), random_state=42)\n",
    "\n",
    "print(df_female_balanced)\n",
    "\n",
    "# Combine\n",
    "df_balanced = pd.concat([df_male, df_female_balanced]).sample(frac=1, random_state=42)  # shuffle\n",
    "# display the class distribution\n",
    "df_balanced['Gender'].value_counts(normalize=True) * 100"
   ]
  },
  {
   "cell_type": "code",
   "execution_count": 133,
   "id": "7c4ab1de",
   "metadata": {},
   "outputs": [
    {
     "data": {
      "image/png": "[encoded data removed]",
      "text/plain": [
       "<Figure size 640x480 with 1 Axes>"
      ]
     },
     "metadata": {},
     "output_type": "display_data"
    }
   ],
   "source": [
    "df_balanced['Gender'].value_counts(normalize=True).plot(kind='pie', color=['skyblue', 'lightcoral'])\n",
    "plt.title('Class Distribution')\n",
    "plt.xlabel('Gender')\n",
    "plt.ylabel('Percentage')\n",
    "plt.xticks(rotation=0)\n",
    "plt.show()"
   ]
  },
  {
   "cell_type": "code",
   "execution_count": 134,
   "id": "0b992998",
   "metadata": {},
   "outputs": [],
   "source": [
    "#Optional: resize the dataset to 5000 rows for faster training\n",
    "#df_balanced = df_balanced.sample(n=5000, random_state=42).reset_index(drop=True)"
   ]
  },
  {
   "cell_type": "code",
   "execution_count": 135,
   "metadata": {},
   "outputs": [],
   "source": [
    "# Step 5: Preprocessing - encode/tokenize\n",
    "names = df_balanced['Name'].astype(str).values\n",
    "genders = df_balanced['Gender'].values\n",
    "\n",
    "# Encode gender labels to 0/1\n",
    "label_encoder = LabelEncoder()\n",
    "labels = label_encoder.fit_transform(genders)\n",
    "\n",
    "# Tokenize names (character-level)\n",
    "tokenizer = Tokenizer(char_level=True)\n",
    "tokenizer.fit_on_texts(names)\n",
    "sequences = tokenizer.texts_to_sequences(names)\n",
    "\n",
    "# Pad sequences\n",
    "maxlen = max([len(seq) for seq in sequences])\n",
    "X = pad_sequences(sequences, maxlen=maxlen)\n",
    "y = np.array(labels)\n"
   ]
  },
  {
   "cell_type": "code",
   "execution_count": 136,
   "id": "07f3807c",
   "metadata": {},
   "outputs": [
    {
     "name": "stdout",
     "output_type": "stream",
     "text": [
      "          Name Gender\n",
      "3613    brandt      M\n",
      "7924   aminata      F\n",
      "3002   journee      F\n",
      "10249    blima      F\n",
      "1232   gustavo      M\n",
      "...        ...    ...\n",
      "6183   angelyn      F\n",
      "12935   dupree      M\n",
      "13444    navin      M\n",
      "1993      aldo      M\n",
      "3852   kyndall      F\n",
      "\n",
      "[11988 rows x 2 columns]\n",
      "(11988, 2)\n",
      "[1 0 0 ... 1 1 0]\n",
      "(11988, 14) (11988,)\n",
      "[[ 0  0  0 ...  3 11  9]\n",
      " [ 0  0  0 ...  1  9  1]\n",
      " [ 0  0  0 ...  3  2  2]\n",
      " ...\n",
      " [ 0  0  0 ... 19  4  3]\n",
      " [ 0  0  0 ...  6 11  7]\n",
      " [ 0  0  0 ...  1  6  6]]\n",
      "[1 0 0 ... 1 1 0]\n"
     ]
    }
   ],
   "source": [
    "print(df_balanced)\n",
    "print (df_balanced.shape)\n",
    "print(labels)\n",
    "print(X.shape, y.shape)\n",
    "print(X)\n",
    "print(y)"
   ]
  },
  {
   "cell_type": "code",
   "execution_count": 137,
   "id": "9de13faa",
   "metadata": {},
   "outputs": [],
   "source": [
    "# Step 6: Shuffle and split manually\n",
    "dataset = tf.data.Dataset.from_tensor_slices((X, y)).shuffle(buffer_size=len(X), seed=42)\n",
    "\n",
    "# Convert back to numpy for manual split\n",
    "X_shuffled, y_shuffled = [], []\n",
    "for features, label in dataset:\n",
    "    X_shuffled.append(features.numpy())\n",
    "    y_shuffled.append(label.numpy())\n",
    "\n",
    "# Train/test split\n",
    "# 80% for training, 20% for testing\n",
    "split_index = int(0.8 * len(X))\n",
    "X_train = np.array(X_shuffled[:split_index])\n",
    "y_train = np.array(y_shuffled[:split_index])\n",
    "X_test = np.array(X_shuffled[split_index:])\n",
    "y_test = np.array(y_shuffled[split_index:])\n"
   ]
  },
  {
   "cell_type": "code",
   "execution_count": 138,
   "id": "20b6da7e",
   "metadata": {},
   "outputs": [
    {
     "name": "stdout",
     "output_type": "stream",
     "text": [
      "(9590, 14) (9590,)\n",
      "(2398, 14) (2398,)\n",
      "Tokenized name: [ 0  0  0  0  0  0  0  6  1  9  4 22  1 12]\n",
      "Name: james\n",
      "Label: 0\n",
      "Gender: M\n"
     ]
    }
   ],
   "source": [
    "print(X_train.shape, y_train.shape)\n",
    "print(X_test.shape, y_test.shape)\n",
    "print(\"Tokenized name:\", X_train[0])\n",
    "print(\"Name:\", df_balanced['Name'][0])\n",
    "print(\"Label:\", y_train[0])\n",
    "print(\"Gender:\", df_balanced['Gender'][0])"
   ]
  },
  {
   "cell_type": "code",
   "execution_count": 139,
   "metadata": {},
   "outputs": [
    {
     "name": "stdout",
     "output_type": "stream",
     "text": [
      "Vocab size = Embedding input_dim: 27\n"
     ]
    }
   ],
   "source": [
    "# Step 7: Build Model\n",
    "vocab_size = len(tokenizer.word_index) + 1\n",
    "print(\"Vocab size = Embedding input_dim:\", vocab_size)\n",
    "\n",
    "# Using LSTM model arhitecture\n",
    "model = tf.keras.Sequential([\n",
    "    tf.keras.layers.Embedding(input_dim=vocab_size, output_dim=32),\n",
    "    tf.keras.layers.Bidirectional(tf.keras.layers.LSTM(32)),\n",
    "    tf.keras.layers.Dense(64, activation='relu'),\n",
    "    tf.keras.layers.Dropout(0.5),\n",
    "    tf.keras.layers.Dense(1, activation='sigmoid')\n",
    "]) \n",
    "\n",
    "model.compile(loss='binary_crossentropy', optimizer='adam', metrics=['accuracy'])\n",
    "#model.summary()\n",
    "\n",
    "# Hyperparameters fine tuning:\n",
    "#-> Embedding dimension: Size of the vector space (output_dim) — typically 16, 32, 64. Used: 32\n",
    "#-> LSTM units: Number of hidden units in the LSTM — try 32, 64, 128. Used: 32\n",
    "#-> Dropout rate: Prevents overfitting — try 0.3, 0.5. Used: 0.5\n",
    "#-> Learning rate: Use a custom learning rate in the optimizer, default for Adam is 0.001, but you can try 0.0001 or 0.01. Used: default value = 0.001\n",
    "\n"
   ]
  },
  {
   "cell_type": "code",
   "execution_count": 140,
   "metadata": {},
   "outputs": [
    {
     "name": "stdout",
     "output_type": "stream",
     "text": [
      "Epoch 1/50\n",
      "\u001b[1m150/150\u001b[0m \u001b[32m━━━━━━━━━━━━━━━━━━━━\u001b[0m\u001b[37m\u001b[0m \u001b[1m4s\u001b[0m 9ms/step - accuracy: 0.6288 - loss: 0.6525 - val_accuracy: 0.7786 - val_loss: 0.4798\n",
      "Epoch 2/50\n",
      "\u001b[1m150/150\u001b[0m \u001b[32m━━━━━━━━━━━━━━━━━━━━\u001b[0m\u001b[37m\u001b[0m \u001b[1m1s\u001b[0m 6ms/step - accuracy: 0.7676 - loss: 0.4956 - val_accuracy: 0.7944 - val_loss: 0.4594\n",
      "Epoch 3/50\n",
      "\u001b[1m150/150\u001b[0m \u001b[32m━━━━━━━━━━━━━━━━━━━━\u001b[0m\u001b[37m\u001b[0m \u001b[1m1s\u001b[0m 6ms/step - accuracy: 0.7737 - loss: 0.4879 - val_accuracy: 0.7952 - val_loss: 0.4525\n",
      "Epoch 4/50\n",
      "\u001b[1m150/150\u001b[0m \u001b[32m━━━━━━━━━━━━━━━━━━━━\u001b[0m\u001b[37m\u001b[0m \u001b[1m1s\u001b[0m 7ms/step - accuracy: 0.7735 - loss: 0.4881 - val_accuracy: 0.7998 - val_loss: 0.4521\n",
      "Epoch 5/50\n",
      "\u001b[1m150/150\u001b[0m \u001b[32m━━━━━━━━━━━━━━━━━━━━\u001b[0m\u001b[37m\u001b[0m \u001b[1m1s\u001b[0m 6ms/step - accuracy: 0.7853 - loss: 0.4685 - val_accuracy: 0.8023 - val_loss: 0.4478\n",
      "Epoch 6/50\n",
      "\u001b[1m150/150\u001b[0m \u001b[32m━━━━━━━━━━━━━━━━━━━━\u001b[0m\u001b[37m\u001b[0m \u001b[1m1s\u001b[0m 6ms/step - accuracy: 0.7909 - loss: 0.4659 - val_accuracy: 0.7994 - val_loss: 0.4452\n",
      "Epoch 7/50\n",
      "\u001b[1m150/150\u001b[0m \u001b[32m━━━━━━━━━━━━━━━━━━━━\u001b[0m\u001b[37m\u001b[0m \u001b[1m1s\u001b[0m 6ms/step - accuracy: 0.7884 - loss: 0.4661 - val_accuracy: 0.8040 - val_loss: 0.4434\n",
      "Epoch 8/50\n",
      "\u001b[1m150/150\u001b[0m \u001b[32m━━━━━━━━━━━━━━━━━━━━\u001b[0m\u001b[37m\u001b[0m \u001b[1m1s\u001b[0m 6ms/step - accuracy: 0.7846 - loss: 0.4681 - val_accuracy: 0.8032 - val_loss: 0.4423\n",
      "Epoch 9/50\n",
      "\u001b[1m150/150\u001b[0m \u001b[32m━━━━━━━━━━━━━━━━━━━━\u001b[0m\u001b[37m\u001b[0m \u001b[1m1s\u001b[0m 6ms/step - accuracy: 0.7854 - loss: 0.4645 - val_accuracy: 0.8044 - val_loss: 0.4434\n",
      "Epoch 10/50\n",
      "\u001b[1m150/150\u001b[0m \u001b[32m━━━━━━━━━━━━━━━━━━━━\u001b[0m\u001b[37m\u001b[0m \u001b[1m1s\u001b[0m 7ms/step - accuracy: 0.7965 - loss: 0.4560 - val_accuracy: 0.8098 - val_loss: 0.4433\n",
      "Epoch 11/50\n",
      "\u001b[1m150/150\u001b[0m \u001b[32m━━━━━━━━━━━━━━━━━━━━\u001b[0m\u001b[37m\u001b[0m \u001b[1m1s\u001b[0m 7ms/step - accuracy: 0.7967 - loss: 0.4599 - val_accuracy: 0.8078 - val_loss: 0.4366\n",
      "Epoch 12/50\n",
      "\u001b[1m150/150\u001b[0m \u001b[32m━━━━━━━━━━━━━━━━━━━━\u001b[0m\u001b[37m\u001b[0m \u001b[1m1s\u001b[0m 6ms/step - accuracy: 0.7980 - loss: 0.4474 - val_accuracy: 0.8069 - val_loss: 0.4377\n",
      "Epoch 13/50\n",
      "\u001b[1m150/150\u001b[0m \u001b[32m━━━━━━━━━━━━━━━━━━━━\u001b[0m\u001b[37m\u001b[0m \u001b[1m1s\u001b[0m 6ms/step - accuracy: 0.7981 - loss: 0.4592 - val_accuracy: 0.8078 - val_loss: 0.4350\n",
      "Epoch 14/50\n",
      "\u001b[1m150/150\u001b[0m \u001b[32m━━━━━━━━━━━━━━━━━━━━\u001b[0m\u001b[37m\u001b[0m \u001b[1m1s\u001b[0m 6ms/step - accuracy: 0.7992 - loss: 0.4508 - val_accuracy: 0.8140 - val_loss: 0.4298\n",
      "Epoch 15/50\n",
      "\u001b[1m150/150\u001b[0m \u001b[32m━━━━━━━━━━━━━━━━━━━━\u001b[0m\u001b[37m\u001b[0m \u001b[1m1s\u001b[0m 6ms/step - accuracy: 0.8043 - loss: 0.4434 - val_accuracy: 0.8128 - val_loss: 0.4299\n",
      "Epoch 16/50\n",
      "\u001b[1m150/150\u001b[0m \u001b[32m━━━━━━━━━━━━━━━━━━━━\u001b[0m\u001b[37m\u001b[0m \u001b[1m1s\u001b[0m 6ms/step - accuracy: 0.8074 - loss: 0.4374 - val_accuracy: 0.8094 - val_loss: 0.4359\n",
      "Epoch 17/50\n",
      "\u001b[1m150/150\u001b[0m \u001b[32m━━━━━━━━━━━━━━━━━━━━\u001b[0m\u001b[37m\u001b[0m \u001b[1m1s\u001b[0m 6ms/step - accuracy: 0.8047 - loss: 0.4397 - val_accuracy: 0.8153 - val_loss: 0.4297\n",
      "Epoch 18/50\n",
      "\u001b[1m150/150\u001b[0m \u001b[32m━━━━━━━━━━━━━━━━━━━━\u001b[0m\u001b[37m\u001b[0m \u001b[1m1s\u001b[0m 6ms/step - accuracy: 0.8167 - loss: 0.4272 - val_accuracy: 0.8111 - val_loss: 0.4285\n",
      "Epoch 19/50\n",
      "\u001b[1m150/150\u001b[0m \u001b[32m━━━━━━━━━━━━━━━━━━━━\u001b[0m\u001b[37m\u001b[0m \u001b[1m1s\u001b[0m 7ms/step - accuracy: 0.8114 - loss: 0.4266 - val_accuracy: 0.8144 - val_loss: 0.4261\n",
      "Epoch 20/50\n",
      "\u001b[1m150/150\u001b[0m \u001b[32m━━━━━━━━━━━━━━━━━━━━\u001b[0m\u001b[37m\u001b[0m \u001b[1m1s\u001b[0m 6ms/step - accuracy: 0.8124 - loss: 0.4308 - val_accuracy: 0.8165 - val_loss: 0.4271\n",
      "Epoch 21/50\n",
      "\u001b[1m150/150\u001b[0m \u001b[32m━━━━━━━━━━━━━━━━━━━━\u001b[0m\u001b[37m\u001b[0m \u001b[1m1s\u001b[0m 6ms/step - accuracy: 0.8187 - loss: 0.4182 - val_accuracy: 0.8140 - val_loss: 0.4253\n",
      "Epoch 22/50\n",
      "\u001b[1m150/150\u001b[0m \u001b[32m━━━━━━━━━━━━━━━━━━━━\u001b[0m\u001b[37m\u001b[0m \u001b[1m1s\u001b[0m 6ms/step - accuracy: 0.8182 - loss: 0.4179 - val_accuracy: 0.8157 - val_loss: 0.4236\n",
      "Epoch 23/50\n",
      "\u001b[1m150/150\u001b[0m \u001b[32m━━━━━━━━━━━━━━━━━━━━\u001b[0m\u001b[37m\u001b[0m \u001b[1m1s\u001b[0m 6ms/step - accuracy: 0.8144 - loss: 0.4287 - val_accuracy: 0.8065 - val_loss: 0.4295\n",
      "Epoch 24/50\n",
      "\u001b[1m150/150\u001b[0m \u001b[32m━━━━━━━━━━━━━━━━━━━━\u001b[0m\u001b[37m\u001b[0m \u001b[1m1s\u001b[0m 6ms/step - accuracy: 0.8200 - loss: 0.4122 - val_accuracy: 0.8153 - val_loss: 0.4259\n",
      "Epoch 25/50\n",
      "\u001b[1m150/150\u001b[0m \u001b[32m━━━━━━━━━━━━━━━━━━━━\u001b[0m\u001b[37m\u001b[0m \u001b[1m1s\u001b[0m 7ms/step - accuracy: 0.8119 - loss: 0.4247 - val_accuracy: 0.8186 - val_loss: 0.4228\n",
      "Epoch 26/50\n",
      "\u001b[1m150/150\u001b[0m \u001b[32m━━━━━━━━━━━━━━━━━━━━\u001b[0m\u001b[37m\u001b[0m \u001b[1m1s\u001b[0m 6ms/step - accuracy: 0.8110 - loss: 0.4235 - val_accuracy: 0.8207 - val_loss: 0.4208\n",
      "Epoch 27/50\n",
      "\u001b[1m150/150\u001b[0m \u001b[32m━━━━━━━━━━━━━━━━━━━━\u001b[0m\u001b[37m\u001b[0m \u001b[1m1s\u001b[0m 6ms/step - accuracy: 0.8111 - loss: 0.4289 - val_accuracy: 0.8186 - val_loss: 0.4200\n",
      "Epoch 28/50\n",
      "\u001b[1m150/150\u001b[0m \u001b[32m━━━━━━━━━━━━━━━━━━━━\u001b[0m\u001b[37m\u001b[0m \u001b[1m1s\u001b[0m 6ms/step - accuracy: 0.8194 - loss: 0.4151 - val_accuracy: 0.8148 - val_loss: 0.4173\n",
      "Epoch 29/50\n",
      "\u001b[1m150/150\u001b[0m \u001b[32m━━━━━━━━━━━━━━━━━━━━\u001b[0m\u001b[37m\u001b[0m \u001b[1m1s\u001b[0m 6ms/step - accuracy: 0.8177 - loss: 0.4189 - val_accuracy: 0.8144 - val_loss: 0.4227\n",
      "Epoch 30/50\n",
      "\u001b[1m150/150\u001b[0m \u001b[32m━━━━━━━━━━━━━━━━━━━━\u001b[0m\u001b[37m\u001b[0m \u001b[1m1s\u001b[0m 6ms/step - accuracy: 0.8173 - loss: 0.4137 - val_accuracy: 0.8203 - val_loss: 0.4160\n",
      "Epoch 31/50\n",
      "\u001b[1m150/150\u001b[0m \u001b[32m━━━━━━━━━━━━━━━━━━━━\u001b[0m\u001b[37m\u001b[0m \u001b[1m1s\u001b[0m 8ms/step - accuracy: 0.8218 - loss: 0.4091 - val_accuracy: 0.8182 - val_loss: 0.4277\n",
      "Epoch 32/50\n",
      "\u001b[1m150/150\u001b[0m \u001b[32m━━━━━━━━━━━━━━━━━━━━\u001b[0m\u001b[37m\u001b[0m \u001b[1m1s\u001b[0m 8ms/step - accuracy: 0.8211 - loss: 0.4142 - val_accuracy: 0.8211 - val_loss: 0.4188\n",
      "Epoch 33/50\n",
      "\u001b[1m150/150\u001b[0m \u001b[32m━━━━━━━━━━━━━━━━━━━━\u001b[0m\u001b[37m\u001b[0m \u001b[1m1s\u001b[0m 8ms/step - accuracy: 0.8260 - loss: 0.3954 - val_accuracy: 0.8190 - val_loss: 0.4183\n"
     ]
    }
   ],
   "source": [
    "# Step 8: Train the Model\n",
    "early_stop = tf.keras.callbacks.EarlyStopping(patience=3, restore_best_weights=True) #prevent overfitting\n",
    "\n",
    "history = model.fit(\n",
    "    X_train, y_train,\n",
    "    validation_data=(X_test, y_test),\n",
    "    epochs=50,\n",
    "    batch_size=64,\n",
    "    callbacks=[early_stop]\n",
    ")\n",
    "\n",
    "# Hyperparameters fine tuning:\n",
    "# Batch size: Number of samples per gradient update — try 32, 64, 128.\n",
    "# Number of epochs: More isn't always better — test 5 to 30.\n",
    "\n",
    "#overfitting epochs: 100, no early stopping\n",
    "#underfitting epochs: 5, no early stopping\n",
    "#bestfit epochs: 50, batch_size: 64"
   ]
  },
  {
   "cell_type": "code",
   "execution_count": 141,
   "metadata": {},
   "outputs": [
    {
     "name": "stdout",
     "output_type": "stream",
     "text": [
      "\u001b[1m75/75\u001b[0m \u001b[32m━━━━━━━━━━━━━━━━━━━━\u001b[0m\u001b[37m\u001b[0m \u001b[1m0s\u001b[0m 4ms/step - accuracy: 0.8189 - loss: 0.4107\n",
      "Test Accuracy: 82.03%\n"
     ]
    }
   ],
   "source": [
    "# Step 9: Evaluate on Test Set\n",
    "loss, accuracy = model.evaluate(X_test, y_test)\n",
    "print(f\"Test Accuracy: {accuracy*100:.2f}%\") #best: 82.40%"
   ]
  },
  {
   "cell_type": "code",
   "execution_count": null,
   "id": "b9d2ad49",
   "metadata": {},
   "outputs": [
    {
     "data": {
      "text/html": [
       "<pre style=\"white-space:pre;overflow-x:auto;line-height:normal;font-family:Menlo,'DejaVu Sans Mono',consolas,'Courier New',monospace\"><span style=\"font-weight: bold\">Model: \"sequential_10\"</span>\n",
       "</pre>\n"
      ],
      "text/plain": [
       "\u001b[1mModel: \"sequential_10\"\u001b[0m\n"
      ]
     },
     "metadata": {},
     "output_type": "display_data"
    },
    {
     "data": {
      "text/html": [
       "<pre style=\"white-space:pre;overflow-x:auto;line-height:normal;font-family:Menlo,'DejaVu Sans Mono',consolas,'Courier New',monospace\">┏━━━━━━━━━━━━━━━━━━━━━━━━━━━━━━━━━┳━━━━━━━━━━━━━━━━━━━━━━━━┳━━━━━━━━━━━━━━━┓\n",
       "┃<span style=\"font-weight: bold\"> Layer (type)                    </span>┃<span style=\"font-weight: bold\"> Output Shape           </span>┃<span style=\"font-weight: bold\">       Param # </span>┃\n",
       "┡━━━━━━━━━━━━━━━━━━━━━━━━━━━━━━━━━╇━━━━━━━━━━━━━━━━━━━━━━━━╇━━━━━━━━━━━━━━━┩\n",
       "│ embedding_10 (<span style=\"color: #0087ff; text-decoration-color: #0087ff\">Embedding</span>)        │ (<span style=\"color: #00d7ff; text-decoration-color: #00d7ff\">None</span>, <span style=\"color: #00af00; text-decoration-color: #00af00\">14</span>, <span style=\"color: #00af00; text-decoration-color: #00af00\">32</span>)         │           <span style=\"color: #00af00; text-decoration-color: #00af00\">864</span> │\n",
       "├─────────────────────────────────┼────────────────────────┼───────────────┤\n",
       "│ bidirectional_10                │ (<span style=\"color: #00d7ff; text-decoration-color: #00d7ff\">None</span>, <span style=\"color: #00af00; text-decoration-color: #00af00\">64</span>)             │        <span style=\"color: #00af00; text-decoration-color: #00af00\">16,640</span> │\n",
       "│ (<span style=\"color: #0087ff; text-decoration-color: #0087ff\">Bidirectional</span>)                 │                        │               │\n",
       "├─────────────────────────────────┼────────────────────────┼───────────────┤\n",
       "│ dense_20 (<span style=\"color: #0087ff; text-decoration-color: #0087ff\">Dense</span>)                │ (<span style=\"color: #00d7ff; text-decoration-color: #00d7ff\">None</span>, <span style=\"color: #00af00; text-decoration-color: #00af00\">64</span>)             │         <span style=\"color: #00af00; text-decoration-color: #00af00\">4,160</span> │\n",
       "├─────────────────────────────────┼────────────────────────┼───────────────┤\n",
       "│ dropout_10 (<span style=\"color: #0087ff; text-decoration-color: #0087ff\">Dropout</span>)            │ (<span style=\"color: #00d7ff; text-decoration-color: #00d7ff\">None</span>, <span style=\"color: #00af00; text-decoration-color: #00af00\">64</span>)             │             <span style=\"color: #00af00; text-decoration-color: #00af00\">0</span> │\n",
       "├─────────────────────────────────┼────────────────────────┼───────────────┤\n",
       "│ dense_21 (<span style=\"color: #0087ff; text-decoration-color: #0087ff\">Dense</span>)                │ (<span style=\"color: #00d7ff; text-decoration-color: #00d7ff\">None</span>, <span style=\"color: #00af00; text-decoration-color: #00af00\">1</span>)              │            <span style=\"color: #00af00; text-decoration-color: #00af00\">65</span> │\n",
       "└─────────────────────────────────┴────────────────────────┴───────────────┘\n",
       "</pre>\n"
      ],
      "text/plain": [
       "┏━━━━━━━━━━━━━━━━━━━━━━━━━━━━━━━━━┳━━━━━━━━━━━━━━━━━━━━━━━━┳━━━━━━━━━━━━━━━┓\n",
       "┃\u001b[1m \u001b[0m\u001b[1mLayer (type)                   \u001b[0m\u001b[1m \u001b[0m┃\u001b[1m \u001b[0m\u001b[1mOutput Shape          \u001b[0m\u001b[1m \u001b[0m┃\u001b[1m \u001b[0m\u001b[1m      Param #\u001b[0m\u001b[1m \u001b[0m┃\n",
       "┡━━━━━━━━━━━━━━━━━━━━━━━━━━━━━━━━━╇━━━━━━━━━━━━━━━━━━━━━━━━╇━━━━━━━━━━━━━━━┩\n",
       "│ embedding_10 (\u001b[38;5;33mEmbedding\u001b[0m)        │ (\u001b[38;5;45mNone\u001b[0m, \u001b[38;5;34m14\u001b[0m, \u001b[38;5;34m32\u001b[0m)         │           \u001b[38;5;34m864\u001b[0m │\n",
       "├─────────────────────────────────┼────────────────────────┼───────────────┤\n",
       "│ bidirectional_10                │ (\u001b[38;5;45mNone\u001b[0m, \u001b[38;5;34m64\u001b[0m)             │        \u001b[38;5;34m16,640\u001b[0m │\n",
       "│ (\u001b[38;5;33mBidirectional\u001b[0m)                 │                        │               │\n",
       "├─────────────────────────────────┼────────────────────────┼───────────────┤\n",
       "│ dense_20 (\u001b[38;5;33mDense\u001b[0m)                │ (\u001b[38;5;45mNone\u001b[0m, \u001b[38;5;34m64\u001b[0m)             │         \u001b[38;5;34m4,160\u001b[0m │\n",
       "├─────────────────────────────────┼────────────────────────┼───────────────┤\n",
       "│ dropout_10 (\u001b[38;5;33mDropout\u001b[0m)            │ (\u001b[38;5;45mNone\u001b[0m, \u001b[38;5;34m64\u001b[0m)             │             \u001b[38;5;34m0\u001b[0m │\n",
       "├─────────────────────────────────┼────────────────────────┼───────────────┤\n",
       "│ dense_21 (\u001b[38;5;33mDense\u001b[0m)                │ (\u001b[38;5;45mNone\u001b[0m, \u001b[38;5;34m1\u001b[0m)              │            \u001b[38;5;34m65\u001b[0m │\n",
       "└─────────────────────────────────┴────────────────────────┴───────────────┘\n"
      ]
     },
     "metadata": {},
     "output_type": "display_data"
    },
    {
     "data": {
      "text/html": [
       "<pre style=\"white-space:pre;overflow-x:auto;line-height:normal;font-family:Menlo,'DejaVu Sans Mono',consolas,'Courier New',monospace\"><span style=\"font-weight: bold\"> Total params: </span><span style=\"color: #00af00; text-decoration-color: #00af00\">65,189</span> (254.65 KB)\n",
       "</pre>\n"
      ],
      "text/plain": [
       "\u001b[1m Total params: \u001b[0m\u001b[38;5;34m65,189\u001b[0m (254.65 KB)\n"
      ]
     },
     "metadata": {},
     "output_type": "display_data"
    },
    {
     "data": {
      "text/html": [
       "<pre style=\"white-space:pre;overflow-x:auto;line-height:normal;font-family:Menlo,'DejaVu Sans Mono',consolas,'Courier New',monospace\"><span style=\"font-weight: bold\"> Trainable params: </span><span style=\"color: #00af00; text-decoration-color: #00af00\">21,729</span> (84.88 KB)\n",
       "</pre>\n"
      ],
      "text/plain": [
       "\u001b[1m Trainable params: \u001b[0m\u001b[38;5;34m21,729\u001b[0m (84.88 KB)\n"
      ]
     },
     "metadata": {},
     "output_type": "display_data"
    },
    {
     "data": {
      "text/html": [
       "<pre style=\"white-space:pre;overflow-x:auto;line-height:normal;font-family:Menlo,'DejaVu Sans Mono',consolas,'Courier New',monospace\"><span style=\"font-weight: bold\"> Non-trainable params: </span><span style=\"color: #00af00; text-decoration-color: #00af00\">0</span> (0.00 B)\n",
       "</pre>\n"
      ],
      "text/plain": [
       "\u001b[1m Non-trainable params: \u001b[0m\u001b[38;5;34m0\u001b[0m (0.00 B)\n"
      ]
     },
     "metadata": {},
     "output_type": "display_data"
    },
    {
     "data": {
      "text/html": [
       "<pre style=\"white-space:pre;overflow-x:auto;line-height:normal;font-family:Menlo,'DejaVu Sans Mono',consolas,'Courier New',monospace\"><span style=\"font-weight: bold\"> Optimizer params: </span><span style=\"color: #00af00; text-decoration-color: #00af00\">43,460</span> (169.77 KB)\n",
       "</pre>\n"
      ],
      "text/plain": [
       "\u001b[1m Optimizer params: \u001b[0m\u001b[38;5;34m43,460\u001b[0m (169.77 KB)\n"
      ]
     },
     "metadata": {},
     "output_type": "display_data"
    }
   ],
   "source": [
    "# View the structure of the model after training\n",
    "model.summary()"
   ]
  },
  {
   "cell_type": "code",
   "execution_count": 142,
   "metadata": {},
   "outputs": [
    {
     "data": {
      "image/png": "[encoded data removed]",
      "text/plain": [
       "<Figure size 640x480 with 1 Axes>"
      ]
     },
     "metadata": {},
     "output_type": "display_data"
    }
   ],
   "source": [
    "# Step 10: Visualize Training History\n",
    "\n",
    "# Model's Accuracy evolution during training\n",
    "plt.plot(history.history['accuracy'], label='Train Accuracy')\n",
    "plt.plot(history.history['val_accuracy'], label='Validation Accuracy')\n",
    "plt.title('Model Accuracy')\n",
    "plt.xlabel('Epoch')\n",
    "plt.ylabel('Accuracy')\n",
    "plt.legend()\n",
    "plt.show()\n"
   ]
  },
  {
   "cell_type": "code",
   "execution_count": 143,
   "id": "d4db9acb",
   "metadata": {},
   "outputs": [
    {
     "data": {
      "image/png": "[encoded data removed]",
      "text/plain": [
       "<Figure size 640x480 with 1 Axes>"
      ]
     },
     "metadata": {},
     "output_type": "display_data"
    }
   ],
   "source": [
    "# Model's Loss evolution durring training\n",
    "plt.plot(history.history['loss'], label='Train Loss')\n",
    "plt.plot(history.history['val_loss'], label='Validation Loss')\n",
    "plt.title('Model Loss')\n",
    "plt.xlabel('Epoch')\n",
    "plt.ylabel('Loss')\n",
    "plt.legend()\n",
    "plt.show()"
   ]
  },
  {
   "cell_type": "code",
   "execution_count": 144,
   "id": "6c79c919",
   "metadata": {},
   "outputs": [
    {
     "name": "stdout",
     "output_type": "stream",
     "text": [
      "\u001b[1m1/1\u001b[0m \u001b[32m━━━━━━━━━━━━━━━━━━━━\u001b[0m\u001b[37m\u001b[0m \u001b[1m0s\u001b[0m 219ms/step\n",
      "Name: Liam → Predicted Gender: M (Confidence: 0.68) Expected: M  Seen: No\n",
      "None\n",
      "\u001b[1m1/1\u001b[0m \u001b[32m━━━━━━━━━━━━━━━━━━━━\u001b[0m\u001b[37m\u001b[0m \u001b[1m0s\u001b[0m 22ms/step\n",
      "Name: Isabella → Predicted Gender: F (Confidence: 0.00) Expected: F  Seen: No\n",
      "None\n",
      "\u001b[1m1/1\u001b[0m \u001b[32m━━━━━━━━━━━━━━━━━━━━\u001b[0m\u001b[37m\u001b[0m \u001b[1m0s\u001b[0m 28ms/step\n",
      "Name: Zoe → Predicted Gender: M (Confidence: 0.71) Expected: F !!! Seen: Yes\n",
      "None\n",
      "\u001b[1m1/1\u001b[0m \u001b[32m━━━━━━━━━━━━━━━━━━━━\u001b[0m\u001b[37m\u001b[0m \u001b[1m0s\u001b[0m 26ms/step\n",
      "Name: Autumn → Predicted Gender: M (Confidence: 0.93) Expected: F !!! Seen: No\n",
      "None\n",
      "\u001b[1m1/1\u001b[0m \u001b[32m━━━━━━━━━━━━━━━━━━━━\u001b[0m\u001b[37m\u001b[0m \u001b[1m0s\u001b[0m 22ms/step\n",
      "Name: Gene → Predicted Gender: F (Confidence: 0.39) Expected: M !!! Seen: Yes\n",
      "None\n",
      "\u001b[1m1/1\u001b[0m \u001b[32m━━━━━━━━━━━━━━━━━━━━\u001b[0m\u001b[37m\u001b[0m \u001b[1m0s\u001b[0m 22ms/step\n",
      "Name: Ana → Predicted Gender: F (Confidence: 0.07) Expected: F  Seen: Yes\n",
      "None\n",
      "\u001b[1m1/1\u001b[0m \u001b[32m━━━━━━━━━━━━━━━━━━━━\u001b[0m\u001b[37m\u001b[0m \u001b[1m0s\u001b[0m 22ms/step\n",
      "Name: Ana maria → Predicted Gender: F (Confidence: 0.01) Expected: F  Seen: No\n",
      "None\n"
     ]
    }
   ],
   "source": [
    "# Step 11: Predict Gender for New Names\n",
    "\n",
    "# Predicted valuea are between 0 and 1\n",
    "# A predicted value from 0 to 0.5 represents Female(F) \n",
    "# A predicted value from 0.5 to 1 represents Male(M)\n",
    " \n",
    "names_train = np.array(names[:split_index])\n",
    "def predict_gender(model, names, name, expected_gender=None):\n",
    "    name = name.lower()  # normalize\n",
    "    sequence = tokenizer.texts_to_sequences([name])\n",
    "    padded = pad_sequences(sequence, maxlen=maxlen)\n",
    "    pred_prob = model.predict(padded)[0][0] # the actual prediction is done here, it's also called inference\n",
    "    \n",
    "    predicted_label = label_encoder.inverse_transform([int(round(pred_prob))])[0]\n",
    "    print(f\"Name: {name.capitalize()} → Predicted Gender: {predicted_label} (Confidence: {pred_prob:.2f}) Expected: {expected_gender} {'' if predicted_label == expected_gender else '!!!'} Seen: {'Yes' if name.lower() in names else 'No'}\")\n",
    "\n",
    "# Examples international names\n",
    "print(predict_gender(model, names_train, \"Liam\", \"M\"))\n",
    "print(predict_gender(model, names_train, \"Isabella\", \"F\"))\n",
    "print(predict_gender(model, names_train, \"Zoe\", \"F\"))\n",
    "print(predict_gender(model, names_train, \"Autumn\", \"F\"))\n",
    "print(predict_gender(model, names_train, \"Gene\", \"M\"))\n",
    "print(predict_gender(model, names_train, \"Ana\", \"F\"))\n",
    "print(predict_gender(model, names_train, \"Ana Maria\", \"F\"))\n"
   ]
  },
  {
   "cell_type": "code",
   "execution_count": 145,
   "id": "2095a44e",
   "metadata": {},
   "outputs": [
    {
     "name": "stdout",
     "output_type": "stream",
     "text": [
      "\u001b[1m1/1\u001b[0m \u001b[32m━━━━━━━━━━━━━━━━━━━━\u001b[0m\u001b[37m\u001b[0m \u001b[1m0s\u001b[0m 26ms/step\n",
      "Name: Marco → Predicted Gender: M (Confidence: 0.85) Expected: M  Seen: No\n",
      "None\n",
      "\u001b[1m1/1\u001b[0m \u001b[32m━━━━━━━━━━━━━━━━━━━━\u001b[0m\u001b[37m\u001b[0m \u001b[1m0s\u001b[0m 22ms/step\n",
      "Name: Romeo → Predicted Gender: M (Confidence: 0.83) Expected: M  Seen: Yes\n",
      "None\n",
      "\u001b[1m1/1\u001b[0m \u001b[32m━━━━━━━━━━━━━━━━━━━━\u001b[0m\u001b[37m\u001b[0m \u001b[1m0s\u001b[0m 21ms/step\n",
      "Name: Chiara → Predicted Gender: F (Confidence: 0.12) Expected: F  Seen: No\n",
      "None\n"
     ]
    }
   ],
   "source": [
    "# Trying out some italian names\n",
    "print(predict_gender(model, names_train, \"Marco\", \"M\"))\n",
    "print(predict_gender(model, names_train, \"Romeo\", \"M\"))\n",
    "print(predict_gender(model, names_train, \"Chiara\", \"F\"))"
   ]
  },
  {
   "cell_type": "code",
   "execution_count": 146,
   "id": "9789a980",
   "metadata": {},
   "outputs": [
    {
     "name": "stdout",
     "output_type": "stream",
     "text": [
      "\u001b[1m1/1\u001b[0m \u001b[32m━━━━━━━━━━━━━━━━━━━━\u001b[0m\u001b[37m\u001b[0m \u001b[1m0s\u001b[0m 33ms/step\n",
      "Name: Florin → Predicted Gender: M (Confidence: 0.73) Expected: M  Seen: No\n",
      "None\n",
      "\u001b[1m1/1\u001b[0m \u001b[32m━━━━━━━━━━━━━━━━━━━━\u001b[0m\u001b[37m\u001b[0m \u001b[1m0s\u001b[0m 24ms/step\n",
      "Name: Florina → Predicted Gender: F (Confidence: 0.02) Expected: F  Seen: No\n",
      "None\n",
      "\u001b[1m1/1\u001b[0m \u001b[32m━━━━━━━━━━━━━━━━━━━━\u001b[0m\u001b[37m\u001b[0m \u001b[1m0s\u001b[0m 32ms/step\n",
      "Name: Marian → Predicted Gender: M (Confidence: 0.69) Expected: M  Seen: Yes\n",
      "None\n",
      "\u001b[1m1/1\u001b[0m \u001b[32m━━━━━━━━━━━━━━━━━━━━\u001b[0m\u001b[37m\u001b[0m \u001b[1m0s\u001b[0m 20ms/step\n",
      "Name: Maria → Predicted Gender: F (Confidence: 0.03) Expected: F  Seen: Yes\n",
      "None\n",
      "\u001b[1m1/1\u001b[0m \u001b[32m━━━━━━━━━━━━━━━━━━━━\u001b[0m\u001b[37m\u001b[0m \u001b[1m0s\u001b[0m 31ms/step\n",
      "Name: Marcel → Predicted Gender: M (Confidence: 0.68) Expected: M  Seen: Yes\n",
      "None\n",
      "\u001b[1m1/1\u001b[0m \u001b[32m━━━━━━━━━━━━━━━━━━━━\u001b[0m\u001b[37m\u001b[0m \u001b[1m0s\u001b[0m 21ms/step\n",
      "Name: Marcela → Predicted Gender: F (Confidence: 0.02) Expected: F  Seen: No\n",
      "None\n",
      "\u001b[1m1/1\u001b[0m \u001b[32m━━━━━━━━━━━━━━━━━━━━\u001b[0m\u001b[37m\u001b[0m \u001b[1m0s\u001b[0m 26ms/step\n",
      "Name: Mihai → Predicted Gender: M (Confidence: 0.74) Expected: M  Seen: No\n",
      "None\n",
      "\u001b[1m1/1\u001b[0m \u001b[32m━━━━━━━━━━━━━━━━━━━━\u001b[0m\u001b[37m\u001b[0m \u001b[1m0s\u001b[0m 37ms/step\n",
      "Name: Mihaela → Predicted Gender: F (Confidence: 0.02) Expected: F  Seen: No\n",
      "None\n",
      "\u001b[1m1/1\u001b[0m \u001b[32m━━━━━━━━━━━━━━━━━━━━\u001b[0m\u001b[37m\u001b[0m \u001b[1m0s\u001b[0m 24ms/step\n",
      "Name: Doina → Predicted Gender: F (Confidence: 0.05) Expected: F  Seen: No\n",
      "None\n",
      "\u001b[1m1/1\u001b[0m \u001b[32m━━━━━━━━━━━━━━━━━━━━\u001b[0m\u001b[37m\u001b[0m \u001b[1m0s\u001b[0m 33ms/step\n",
      "Name: Ilinca → Predicted Gender: F (Confidence: 0.03) Expected: F  Seen: No\n",
      "None\n"
     ]
    }
   ],
   "source": [
    "# Examples romanian names in pairs\n",
    "print(predict_gender(model, names_train, \"Florin\", \"M\"))\n",
    "print(predict_gender(model, names_train, \"Florina\", \"F\"))\n",
    "print(predict_gender(model, names_train,\"Marian\", \"M\"))\n",
    "print(predict_gender(model, names_train,\"Maria\", \"F\"))\n",
    "print(predict_gender(model, names_train,\"Marcel\", \"M\"))\n",
    "print(predict_gender(model, names_train,\"Marcela\", \"F\"))\n",
    "print(predict_gender(model, names_train,\"Mihai\", \"M\"))\n",
    "print(predict_gender(model, names_train,\"Mihaela\", \"F\"))\n",
    "\n",
    "\n",
    "print(predict_gender(model, names_train, \"Doina\", \"F\"))\n",
    "print(predict_gender(model, names_train, \"Ilinca\", \"F\"))"
   ]
  },
  {
   "cell_type": "code",
   "execution_count": 147,
   "id": "dca26a87",
   "metadata": {},
   "outputs": [],
   "source": [
    "# observations \n",
    "# => short names might not perform well, longer names are better\n",
    "# => ambigous names can become both male and female names, this is not a case that we handle in this model\n",
    "# => \"Mihai/Mihaela\" or \"Michael/Michaela\" are good examples, they are 90% similar, it's detecting the diffrence in the last character that indicates the gender\n",
    "# => Suggestions: run training on a dataset with just these short/ambigous names, try it out (excercise)"
   ]
  },
  {
   "cell_type": "code",
   "execution_count": 148,
   "id": "4e3d34e4",
   "metadata": {},
   "outputs": [],
   "source": [
    "# Step 11: Save the model in Keras format\n",
    "save_filename = \"name_gender_model_82_trained_9590_rows.keras\"\n",
    "model.save(save_filename)\n",
    "\n",
    "# Save the tokenizer and label encoder as well\n",
    "# Save tokenizer\n",
    "with open('tokenizer.pkl', 'wb') as f:\n",
    "    pickle.dump(tokenizer, f)\n",
    "\n",
    "# Save label encoder\n",
    "with open('label_encoder.pkl', 'wb') as f:\n",
    "    pickle.dump(label_encoder, f)"
   ]
  },
  {
   "cell_type": "code",
   "execution_count": 149,
   "id": "0398102c",
   "metadata": {},
   "outputs": [
    {
     "name": "stdout",
     "output_type": "stream",
     "text": [
      "2.19.0-dev20241007\n"
     ]
    }
   ],
   "source": [
    "print(tf.__version__)"
   ]
  },
  {
   "cell_type": "code",
   "execution_count": null,
   "id": "24a2d1d4",
   "metadata": {},
   "outputs": [],
   "source": []
  }
 ],
 "metadata": {
  "kernelspec": {
   "display_name": "Python 3",
   "language": "python",
   "name": "python3"
  },
  "language_info": {
   "codemirror_mode": {
    "name": "ipython",
    "version": 3
   },
   "file_extension": ".py",
   "mimetype": "text/x-python",
   "name": "python",
   "nbconvert_exporter": "python",
   "pygments_lexer": "ipython3",
   "version": "3.12.6"
  }
 },
 "nbformat": 4,
 "nbformat_minor": 5
}
