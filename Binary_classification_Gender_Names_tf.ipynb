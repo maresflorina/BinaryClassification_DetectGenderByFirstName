{
 "cells": [
  {
   "cell_type": "code",
   "execution_count": 1,
   "metadata": {},
   "outputs": [],
   "source": [
    "#!pip install tensorflow pandas --quiet\n",
    "#!pip install matplotlib\n",
    "\n",
    "# check to see if it works on new machine"
   ]
  },
  {
   "cell_type": "code",
   "execution_count": 2,
   "id": "68d20f26",
   "metadata": {},
   "outputs": [],
   "source": [
    "\n",
    "# Step 1: Import Libraries\n",
    "import pandas as pd\n",
    "import numpy as np\n",
    "import tensorflow as tf\n",
    "from tensorflow.keras.preprocessing.text import Tokenizer\n",
    "from tensorflow.keras.preprocessing.sequence import pad_sequences\n",
    "from tensorflow.keras.models import Sequential\n",
    "from tensorflow.keras.layers import Embedding, LSTM, Dense, Dropout\n",
    "from sklearn.preprocessing import LabelEncoder\n",
    "import matplotlib.pyplot as plt"
   ]
  },
  {
   "cell_type": "code",
   "execution_count": 3,
   "metadata": {},
   "outputs": [
    {
     "data": {
      "text/html": [
       "<div>\n",
       "<style scoped>\n",
       "    .dataframe tbody tr th:only-of-type {\n",
       "        vertical-align: middle;\n",
       "    }\n",
       "\n",
       "    .dataframe tbody tr th {\n",
       "        vertical-align: top;\n",
       "    }\n",
       "\n",
       "    .dataframe thead th {\n",
       "        text-align: right;\n",
       "    }\n",
       "</style>\n",
       "<table border=\"1\" class=\"dataframe\">\n",
       "  <thead>\n",
       "    <tr style=\"text-align: right;\">\n",
       "      <th></th>\n",
       "      <th>Name</th>\n",
       "      <th>Gender</th>\n",
       "    </tr>\n",
       "  </thead>\n",
       "  <tbody>\n",
       "    <tr>\n",
       "      <th>0</th>\n",
       "      <td>James</td>\n",
       "      <td>M</td>\n",
       "    </tr>\n",
       "    <tr>\n",
       "      <th>1</th>\n",
       "      <td>John</td>\n",
       "      <td>M</td>\n",
       "    </tr>\n",
       "    <tr>\n",
       "      <th>2</th>\n",
       "      <td>Robert</td>\n",
       "      <td>M</td>\n",
       "    </tr>\n",
       "    <tr>\n",
       "      <th>3</th>\n",
       "      <td>Michael</td>\n",
       "      <td>M</td>\n",
       "    </tr>\n",
       "    <tr>\n",
       "      <th>4</th>\n",
       "      <td>William</td>\n",
       "      <td>M</td>\n",
       "    </tr>\n",
       "  </tbody>\n",
       "</table>\n",
       "</div>"
      ],
      "text/plain": [
       "      Name Gender\n",
       "0    James      M\n",
       "1     John      M\n",
       "2   Robert      M\n",
       "3  Michael      M\n",
       "4  William      M"
      ]
     },
     "execution_count": 3,
     "metadata": {},
     "output_type": "execute_result"
    }
   ],
   "source": [
    "# Step 2: Load Dataset\n",
    "df = pd.read_csv(\"15K_Names_Dataset_MLTraining.csv\")\n",
    "df.head()"
   ]
  },
  {
   "cell_type": "code",
   "execution_count": 4,
   "metadata": {},
   "outputs": [
    {
     "name": "stdout",
     "output_type": "stream",
     "text": [
      "<class 'pandas.core.frame.DataFrame'>\n",
      "RangeIndex: 15000 entries, 0 to 14999\n",
      "Data columns (total 2 columns):\n",
      " #   Column  Non-Null Count  Dtype \n",
      "---  ------  --------------  ----- \n",
      " 0   Name    15000 non-null  object\n",
      " 1   Gender  15000 non-null  object\n",
      "dtypes: object(2)\n",
      "memory usage: 234.5+ KB\n",
      "None\n",
      "Gender\n",
      "F    9006\n",
      "M    5994\n",
      "Name: count, dtype: int64\n"
     ]
    }
   ],
   "source": [
    "# Step 3: Basic Data Exploration\n",
    "print(df.info())\n",
    "print(df['Gender'].value_counts())"
   ]
  },
  {
   "cell_type": "code",
   "execution_count": 5,
   "id": "0bb3d2d1",
   "metadata": {},
   "outputs": [
    {
     "data": {
      "image/png": "[encoded data removed]",
      "text/plain": [
       "<Figure size 640x480 with 1 Axes>"
      ]
     },
     "metadata": {},
     "output_type": "display_data"
    }
   ],
   "source": [
    "# display the class distribution\n",
    "df['Gender'].value_counts(normalize=True) * 100\n",
    "\n",
    "df['Gender'].value_counts(normalize=True).plot(kind='pie', color=['skyblue', 'lightcoral'])\n",
    "plt.title('Class Distribution')\n",
    "plt.xlabel('Gender')\n",
    "plt.ylabel('Percentage')\n",
    "plt.xticks(rotation=0)\n",
    "plt.show()"
   ]
  },
  {
   "cell_type": "code",
   "execution_count": 6,
   "id": "f3882797",
   "metadata": {},
   "outputs": [
    {
     "name": "stdout",
     "output_type": "stream",
     "text": [
      "           Name Gender\n",
      "0         James      M\n",
      "1          John      M\n",
      "2        Robert      M\n",
      "3       Michael      M\n",
      "4       William      M\n",
      "...         ...    ...\n",
      "14995  Euphemia      F\n",
      "14996    Gordon      F\n",
      "14997    Kaylon      F\n",
      "14998  Kennadie      F\n",
      "14999    Lynnda      F\n",
      "\n",
      "[15000 rows x 2 columns]\n",
      "           Name Gender\n",
      "0         James      M\n",
      "1          John      M\n",
      "2        Robert      M\n",
      "3       Michael      M\n",
      "4       William      M\n",
      "...         ...    ...\n",
      "14977     Rikki      M\n",
      "14987  Demetrus      M\n",
      "14988    Dillen      M\n",
      "14989     Izell      M\n",
      "14990       Moe      M\n",
      "\n",
      "[5994 rows x 2 columns]\n",
      "            Name Gender\n",
      "5           Mary      F\n",
      "14     Elizabeth      F\n",
      "15      Patricia      F\n",
      "16      Jennifer      F\n",
      "19         Linda      F\n",
      "...          ...    ...\n",
      "14995   Euphemia      F\n",
      "14996     Gordon      F\n",
      "14997     Kaylon      F\n",
      "14998   Kennadie      F\n",
      "14999     Lynnda      F\n",
      "\n",
      "[9006 rows x 2 columns]\n",
      "           Name Gender\n",
      "14504     Azlyn      F\n",
      "11006  Christyn      F\n",
      "12549   Nikkole      F\n",
      "5289      Nilda      F\n",
      "1672      Abbie      F\n",
      "...         ...    ...\n",
      "13760  Shealynn      F\n",
      "1571      Brynn      F\n",
      "3867    Tressie      F\n",
      "4448     Blaire      F\n",
      "10161    Alijah      F\n",
      "\n",
      "[5994 rows x 2 columns]\n"
     ]
    },
    {
     "data": {
      "text/plain": [
       "Gender\n",
       "M    50.0\n",
       "F    50.0\n",
       "Name: proportion, dtype: float64"
      ]
     },
     "execution_count": 6,
     "metadata": {},
     "output_type": "execute_result"
    }
   ],
   "source": [
    "# We need 50% distribution for both classes\n",
    "print(df)\n",
    "# Split by class\n",
    "df_male = df[df['Gender'] == 'M']\n",
    "df_female = df[df['Gender'] == 'F']\n",
    "\n",
    "print(df_male)\n",
    "print(df_female)\n",
    "\n",
    "# Undersample female to match male\n",
    "df_female_balanced = df_female.sample(n=len(df_male), random_state=42)\n",
    "\n",
    "print(df_female_balanced)\n",
    "\n",
    "# Combine\n",
    "df_balanced = pd.concat([df_male, df_female_balanced]).sample(frac=1, random_state=42)  # shuffle\n",
    "# display the class distribution\n",
    "df_balanced['Gender'].value_counts(normalize=True) * 100"
   ]
  },
  {
   "cell_type": "code",
   "execution_count": 7,
   "id": "7c4ab1de",
   "metadata": {},
   "outputs": [
    {
     "data": {
      "image/png": "[encoded data removed]",
      "text/plain": [
       "<Figure size 640x480 with 1 Axes>"
      ]
     },
     "metadata": {},
     "output_type": "display_data"
    }
   ],
   "source": [
    "df_balanced['Gender'].value_counts(normalize=True).plot(kind='pie', color=['skyblue', 'lightcoral'])\n",
    "plt.title('Class Distribution')\n",
    "plt.xlabel('Gender')\n",
    "plt.ylabel('Percentage')\n",
    "plt.xticks(rotation=0)\n",
    "plt.show()"
   ]
  },
  {
   "cell_type": "code",
   "execution_count": 8,
   "id": "0b992998",
   "metadata": {},
   "outputs": [],
   "source": [
    "#Optional: resize the dataset to 5000 rows for faster training\n",
    "#df_balanced = df_balanced.sample(n=5000, random_state=42).reset_index(drop=True)"
   ]
  },
  {
   "cell_type": "code",
   "execution_count": 9,
   "id": "9edfbc81",
   "metadata": {},
   "outputs": [
    {
     "name": "stdout",
     "output_type": "stream",
     "text": [
      "          Name Gender\n",
      "3613    brandt      M\n",
      "7924   aminata      F\n",
      "3002   journee      F\n",
      "10249    blima      F\n",
      "1232   gustavo      M\n",
      "...        ...    ...\n",
      "6183   angelyn      F\n",
      "12935   dupree      M\n",
      "13444    navin      M\n",
      "1993      aldo      M\n",
      "3852   kyndall      F\n",
      "\n",
      "[11988 rows x 2 columns]\n",
      "(11988, 2)\n"
     ]
    }
   ],
   "source": [
    "# Step 4: Preprocessing - cleanup\n",
    "# Drop any rows with missing values\n",
    "df_balanced = df_balanced.dropna(subset=[\"Name\", \"Gender\"])\n",
    "\n",
    "# Normalize case\n",
    "df_balanced['Name'] = df_balanced['Name'].str.strip().str.lower()\n",
    "df_balanced['Gender'] = df_balanced['Gender'].str.strip().str.upper()\n",
    "\n",
    "# Filter only 'male' and 'female'\n",
    "df_balanced = df_balanced[df_balanced['Gender'].isin(['M', 'F'])]\n",
    "\n",
    "print(df_balanced)\n",
    "print(df_balanced.shape) #initial shape: 15000 rows, 2 columns"
   ]
  },
  {
   "cell_type": "code",
   "execution_count": 10,
   "metadata": {},
   "outputs": [],
   "source": [
    "# Step 4: Preprocessing - encode/tokenize\n",
    "names = df_balanced['Name'].astype(str).values\n",
    "genders = df_balanced['Gender'].values\n",
    "\n",
    "# Encode gender labels to 0/1\n",
    "label_encoder = LabelEncoder()\n",
    "labels = label_encoder.fit_transform(genders)\n",
    "\n",
    "# Tokenize names (character-level)\n",
    "tokenizer = Tokenizer(char_level=True)\n",
    "tokenizer.fit_on_texts(names)\n",
    "sequences = tokenizer.texts_to_sequences(names)\n",
    "\n",
    "# Pad sequences\n",
    "maxlen = max([len(seq) for seq in sequences])\n",
    "X = pad_sequences(sequences, maxlen=maxlen)\n",
    "y = np.array(labels)\n"
   ]
  },
  {
   "cell_type": "code",
   "execution_count": 11,
   "id": "07f3807c",
   "metadata": {},
   "outputs": [
    {
     "name": "stdout",
     "output_type": "stream",
     "text": [
      "          Name Gender\n",
      "3613    brandt      M\n",
      "7924   aminata      F\n",
      "3002   journee      F\n",
      "10249    blima      F\n",
      "1232   gustavo      M\n",
      "...        ...    ...\n",
      "6183   angelyn      F\n",
      "12935   dupree      M\n",
      "13444    navin      M\n",
      "1993      aldo      M\n",
      "3852   kyndall      F\n",
      "\n",
      "[11988 rows x 2 columns]\n",
      "(11988, 2)\n",
      "(11988, 14) (11988,)\n",
      "[[ 0  0  0 ...  3 11  9]\n",
      " [ 0  0  0 ...  1  9  1]\n",
      " [ 0  0  0 ...  3  2  2]\n",
      " ...\n",
      " [ 0  0  0 ... 19  4  3]\n",
      " [ 0  0  0 ...  6 11  7]\n",
      " [ 0  0  0 ...  1  6  6]]\n",
      "[1 0 0 ... 1 1 0]\n"
     ]
    }
   ],
   "source": [
    "print(df_balanced)\n",
    "print (df_balanced.shape)\n",
    "print(X.shape, y.shape)\n",
    "print(X)\n",
    "print(y)"
   ]
  },
  {
   "cell_type": "code",
   "execution_count": 12,
   "id": "9de13faa",
   "metadata": {},
   "outputs": [
    {
     "name": "stdout",
     "output_type": "stream",
     "text": [
      "AttributeError: module 'ml_dtypes' has no attribute 'float8_e3m4'\n"
     ]
    }
   ],
   "source": [
    "# Shuffle and split manually\n",
    "dataset = tf.data.Dataset.from_tensor_slices((X, y)).shuffle(buffer_size=len(X), seed=42)\n",
    "\n",
    "# Convert back to numpy for manual split\n",
    "X_shuffled, y_shuffled = [], []\n",
    "for features, label in dataset:\n",
    "    X_shuffled.append(features.numpy())\n",
    "    y_shuffled.append(label.numpy())\n",
    "\n",
    "# Train/test split\n",
    "# 80% for training, 20% for testing\n",
    "split_index = int(0.8 * len(X))\n",
    "X_train = np.array(X_shuffled[:split_index])\n",
    "y_train = np.array(y_shuffled[:split_index])\n",
    "X_test = np.array(X_shuffled[split_index:])\n",
    "y_test = np.array(y_shuffled[split_index:])\n",
    "#X_train, X_test, y_train, y_test = train_test_split(X, y, test_size=0.2, random_state=42)\n"
   ]
  },
  {
   "cell_type": "code",
   "execution_count": 13,
   "id": "20b6da7e",
   "metadata": {},
   "outputs": [
    {
     "name": "stdout",
     "output_type": "stream",
     "text": [
      "(9590, 14) (9590,)\n",
      "[ 0  0  0  0  0  0  0  6  1  9  4 22  1 12]\n",
      "james\n",
      "0\n",
      "M\n"
     ]
    }
   ],
   "source": [
    "print(X_train.shape, y_train.shape)\n",
    "print(X_train[0])\n",
    "print(df_balanced['Name'][0])\n",
    "print(y_train[0])\n",
    "print(df_balanced['Gender'][0])"
   ]
  },
  {
   "cell_type": "code",
   "execution_count": 14,
   "metadata": {},
   "outputs": [
    {
     "data": {
      "text/plain": [
       "'\\nEmbedding dimension: Size of the vector space (output_dim) — typically 16, 32, 64.\\n\\nLSTM units: Number of hidden units in the LSTM — try 32, 64, 128.\\n\\nDropout rate: Prevents overfitting — try 0.3, 0.5.\\n\\nLearning rate: Use a custom learning rate in the optimizer, default for Adam is 0.001, but you can try 0.0001 or 0.01.\\n'"
      ]
     },
     "execution_count": 14,
     "metadata": {},
     "output_type": "execute_result"
    }
   ],
   "source": [
    "# Step 5: Build Model\n",
    "vocab_size = len(tokenizer.word_index) + 1\n",
    "\n",
    "\"\"\"\n",
    "model = Sequential([\n",
    "    Embedding(input_dim=vocab_size, output_dim=32),\n",
    "    LSTM(64),\n",
    "    Dropout(0.5),\n",
    "    Dense(1, activation='sigmoid')\n",
    "])\n",
    "\"\"\"\n",
    "model = tf.keras.Sequential([\n",
    "    tf.keras.layers.Embedding(input_dim=vocab_size, output_dim=32),\n",
    "    tf.keras.layers.Bidirectional(tf.keras.layers.LSTM(32)),\n",
    "    tf.keras.layers.Dense(64, activation='relu'),\n",
    "    tf.keras.layers.Dropout(0.5),\n",
    "    tf.keras.layers.Dense(1, activation='sigmoid')\n",
    "]) #accuracy 81.80%\n",
    "\n",
    "model.compile(loss='binary_crossentropy', optimizer='adam', metrics=['accuracy'])\n",
    "#model.summary()\n",
    "\n",
    "\"\"\"\n",
    "Embedding dimension: Size of the vector space (output_dim) — typically 16, 32, 64.\n",
    "\n",
    "LSTM units: Number of hidden units in the LSTM — try 32, 64, 128.\n",
    "\n",
    "Dropout rate: Prevents overfitting — try 0.3, 0.5.\n",
    "\n",
    "Learning rate: Use a custom learning rate in the optimizer, default for Adam is 0.001, but you can try 0.0001 or 0.01.\n",
    "\"\"\"\n"
   ]
  },
  {
   "cell_type": "code",
   "execution_count": 15,
   "metadata": {},
   "outputs": [
    {
     "name": "stdout",
     "output_type": "stream",
     "text": [
      "Epoch 1/50\n",
      "\u001b[1m150/150\u001b[0m \u001b[32m━━━━━━━━━━━━━━━━━━━━\u001b[0m\u001b[37m\u001b[0m \u001b[1m4s\u001b[0m 8ms/step - accuracy: 0.6095 - loss: 0.6500 - val_accuracy: 0.7773 - val_loss: 0.4720\n",
      "Epoch 2/50\n",
      "\u001b[1m150/150\u001b[0m \u001b[32m━━━━━━━━━━━━━━━━━━━━\u001b[0m\u001b[37m\u001b[0m \u001b[1m1s\u001b[0m 6ms/step - accuracy: 0.7621 - loss: 0.4970 - val_accuracy: 0.7894 - val_loss: 0.4632\n",
      "Epoch 3/50\n",
      "\u001b[1m150/150\u001b[0m \u001b[32m━━━━━━━━━━━━━━━━━━━━\u001b[0m\u001b[37m\u001b[0m \u001b[1m1s\u001b[0m 6ms/step - accuracy: 0.7689 - loss: 0.4932 - val_accuracy: 0.7948 - val_loss: 0.4542\n",
      "Epoch 4/50\n",
      "\u001b[1m150/150\u001b[0m \u001b[32m━━━━━━━━━━━━━━━━━━━━\u001b[0m\u001b[37m\u001b[0m \u001b[1m1s\u001b[0m 6ms/step - accuracy: 0.7857 - loss: 0.4679 - val_accuracy: 0.7973 - val_loss: 0.4543\n",
      "Epoch 5/50\n",
      "\u001b[1m150/150\u001b[0m \u001b[32m━━━━━━━━━━━━━━━━━━━━\u001b[0m\u001b[37m\u001b[0m \u001b[1m1s\u001b[0m 6ms/step - accuracy: 0.7803 - loss: 0.4735 - val_accuracy: 0.7898 - val_loss: 0.4574\n",
      "Epoch 6/50\n",
      "\u001b[1m150/150\u001b[0m \u001b[32m━━━━━━━━━━━━━━━━━━━━\u001b[0m\u001b[37m\u001b[0m \u001b[1m1s\u001b[0m 6ms/step - accuracy: 0.7822 - loss: 0.4646 - val_accuracy: 0.7977 - val_loss: 0.4504\n",
      "Epoch 7/50\n",
      "\u001b[1m150/150\u001b[0m \u001b[32m━━━━━━━━━━━━━━━━━━━━\u001b[0m\u001b[37m\u001b[0m \u001b[1m1s\u001b[0m 6ms/step - accuracy: 0.7867 - loss: 0.4708 - val_accuracy: 0.8028 - val_loss: 0.4462\n",
      "Epoch 8/50\n",
      "\u001b[1m150/150\u001b[0m \u001b[32m━━━━━━━━━━━━━━━━━━━━\u001b[0m\u001b[37m\u001b[0m \u001b[1m1s\u001b[0m 6ms/step - accuracy: 0.7914 - loss: 0.4636 - val_accuracy: 0.8007 - val_loss: 0.4466\n",
      "Epoch 9/50\n",
      "\u001b[1m150/150\u001b[0m \u001b[32m━━━━━━━━━━━━━━━━━━━━\u001b[0m\u001b[37m\u001b[0m \u001b[1m1s\u001b[0m 6ms/step - accuracy: 0.7914 - loss: 0.4660 - val_accuracy: 0.8011 - val_loss: 0.4470\n",
      "Epoch 10/50\n",
      "\u001b[1m150/150\u001b[0m \u001b[32m━━━━━━━━━━━━━━━━━━━━\u001b[0m\u001b[37m\u001b[0m \u001b[1m1s\u001b[0m 6ms/step - accuracy: 0.7942 - loss: 0.4525 - val_accuracy: 0.8019 - val_loss: 0.4411\n",
      "Epoch 11/50\n",
      "\u001b[1m150/150\u001b[0m \u001b[32m━━━━━━━━━━━━━━━━━━━━\u001b[0m\u001b[37m\u001b[0m \u001b[1m1s\u001b[0m 6ms/step - accuracy: 0.7972 - loss: 0.4564 - val_accuracy: 0.8028 - val_loss: 0.4376\n",
      "Epoch 12/50\n",
      "\u001b[1m150/150\u001b[0m \u001b[32m━━━━━━━━━━━━━━━━━━━━\u001b[0m\u001b[37m\u001b[0m \u001b[1m1s\u001b[0m 6ms/step - accuracy: 0.7949 - loss: 0.4559 - val_accuracy: 0.8065 - val_loss: 0.4349\n",
      "Epoch 13/50\n",
      "\u001b[1m150/150\u001b[0m \u001b[32m━━━━━━━━━━━━━━━━━━━━\u001b[0m\u001b[37m\u001b[0m \u001b[1m1s\u001b[0m 6ms/step - accuracy: 0.7997 - loss: 0.4516 - val_accuracy: 0.8065 - val_loss: 0.4342\n",
      "Epoch 14/50\n",
      "\u001b[1m150/150\u001b[0m \u001b[32m━━━━━━━━━━━━━━━━━━━━\u001b[0m\u001b[37m\u001b[0m \u001b[1m1s\u001b[0m 6ms/step - accuracy: 0.7964 - loss: 0.4498 - val_accuracy: 0.8069 - val_loss: 0.4366\n",
      "Epoch 15/50\n",
      "\u001b[1m150/150\u001b[0m \u001b[32m━━━━━━━━━━━━━━━━━━━━\u001b[0m\u001b[37m\u001b[0m \u001b[1m1s\u001b[0m 6ms/step - accuracy: 0.7998 - loss: 0.4435 - val_accuracy: 0.8094 - val_loss: 0.4322\n",
      "Epoch 16/50\n",
      "\u001b[1m150/150\u001b[0m \u001b[32m━━━━━━━━━━━━━━━━━━━━\u001b[0m\u001b[37m\u001b[0m \u001b[1m1s\u001b[0m 6ms/step - accuracy: 0.8015 - loss: 0.4508 - val_accuracy: 0.8090 - val_loss: 0.4350\n",
      "Epoch 17/50\n",
      "\u001b[1m150/150\u001b[0m \u001b[32m━━━━━━━━━━━━━━━━━━━━\u001b[0m\u001b[37m\u001b[0m \u001b[1m1s\u001b[0m 6ms/step - accuracy: 0.7902 - loss: 0.4546 - val_accuracy: 0.8090 - val_loss: 0.4316\n",
      "Epoch 18/50\n",
      "\u001b[1m150/150\u001b[0m \u001b[32m━━━━━━━━━━━━━━━━━━━━\u001b[0m\u001b[37m\u001b[0m \u001b[1m1s\u001b[0m 6ms/step - accuracy: 0.8043 - loss: 0.4494 - val_accuracy: 0.8123 - val_loss: 0.4271\n",
      "Epoch 19/50\n",
      "\u001b[1m150/150\u001b[0m \u001b[32m━━━━━━━━━━━━━━━━━━━━\u001b[0m\u001b[37m\u001b[0m \u001b[1m1s\u001b[0m 6ms/step - accuracy: 0.8076 - loss: 0.4363 - val_accuracy: 0.8136 - val_loss: 0.4269\n",
      "Epoch 20/50\n",
      "\u001b[1m150/150\u001b[0m \u001b[32m━━━━━━━━━━━━━━━━━━━━\u001b[0m\u001b[37m\u001b[0m \u001b[1m1s\u001b[0m 6ms/step - accuracy: 0.8015 - loss: 0.4432 - val_accuracy: 0.8078 - val_loss: 0.4306\n",
      "Epoch 21/50\n",
      "\u001b[1m150/150\u001b[0m \u001b[32m━━━━━━━━━━━━━━━━━━━━\u001b[0m\u001b[37m\u001b[0m \u001b[1m1s\u001b[0m 6ms/step - accuracy: 0.8144 - loss: 0.4318 - val_accuracy: 0.8186 - val_loss: 0.4242\n",
      "Epoch 22/50\n",
      "\u001b[1m150/150\u001b[0m \u001b[32m━━━━━━━━━━━━━━━━━━━━\u001b[0m\u001b[37m\u001b[0m \u001b[1m1s\u001b[0m 6ms/step - accuracy: 0.8075 - loss: 0.4402 - val_accuracy: 0.8153 - val_loss: 0.4268\n",
      "Epoch 23/50\n",
      "\u001b[1m150/150\u001b[0m \u001b[32m━━━━━━━━━━━━━━━━━━━━\u001b[0m\u001b[37m\u001b[0m \u001b[1m1s\u001b[0m 6ms/step - accuracy: 0.8176 - loss: 0.4215 - val_accuracy: 0.8090 - val_loss: 0.4290\n",
      "Epoch 24/50\n",
      "\u001b[1m150/150\u001b[0m \u001b[32m━━━━━━━━━━━━━━━━━━━━\u001b[0m\u001b[37m\u001b[0m \u001b[1m1s\u001b[0m 6ms/step - accuracy: 0.8117 - loss: 0.4240 - val_accuracy: 0.8136 - val_loss: 0.4273\n"
     ]
    },
    {
     "data": {
      "text/plain": [
       "\"\\nBatch size: Number of samples per gradient update — try 32, 64, 128.\\n\\nNumber of epochs: More isn't always better — test 5 to 30.\\n\""
      ]
     },
     "execution_count": 15,
     "metadata": {},
     "output_type": "execute_result"
    }
   ],
   "source": [
    "# Step 6: Train the Model\n",
    "early_stop = tf.keras.callbacks.EarlyStopping(patience=3, restore_best_weights=True) #prevent overfitting\n",
    "\n",
    "history = model.fit(\n",
    "    X_train, y_train,\n",
    "    validation_data=(X_test, y_test),\n",
    "    epochs=50,\n",
    "    batch_size=64,\n",
    "    callbacks=[early_stop]\n",
    ")\n",
    "\n",
    "#overfitting epochs: 100 no early stopping\n",
    "#underfitting epochs: 5 no early stopping\n",
    "\"\"\"\n",
    "Batch size: Number of samples per gradient update — try 32, 64, 128.\n",
    "\n",
    "Number of epochs: More isn't always better — test 5 to 30.\n",
    "\"\"\""
   ]
  },
  {
   "cell_type": "code",
   "execution_count": 16,
   "metadata": {},
   "outputs": [
    {
     "name": "stdout",
     "output_type": "stream",
     "text": [
      "\u001b[1m75/75\u001b[0m \u001b[32m━━━━━━━━━━━━━━━━━━━━\u001b[0m\u001b[37m\u001b[0m \u001b[1m0s\u001b[0m 2ms/step - accuracy: 0.8216 - loss: 0.4193\n",
      "Test Accuracy: 81.86%\n"
     ]
    }
   ],
   "source": [
    "# Step 7: Evaluate on Test Set\n",
    "loss, accuracy = model.evaluate(X_test, y_test)\n",
    "print(f\"Test Accuracy: {accuracy*100:.2f}%\") #best: 81.90%"
   ]
  },
  {
   "cell_type": "code",
   "execution_count": 17,
   "metadata": {},
   "outputs": [
    {
     "data": {
      "image/png": "[encoded data removed]",
      "text/plain": [
       "<Figure size 640x480 with 1 Axes>"
      ]
     },
     "metadata": {},
     "output_type": "display_data"
    }
   ],
   "source": [
    "# Step 8: Visualize Training History\n",
    "# Model's Accuracy evolution durring training\n",
    "plt.plot(history.history['accuracy'], label='Train Accuracy')\n",
    "plt.plot(history.history['val_accuracy'], label='Validation Accuracy')\n",
    "plt.title('Model Accuracy')\n",
    "plt.xlabel('Epoch')\n",
    "plt.ylabel('Accuracy')\n",
    "plt.legend()\n",
    "plt.show()\n"
   ]
  },
  {
   "cell_type": "code",
   "execution_count": 18,
   "id": "d4db9acb",
   "metadata": {},
   "outputs": [
    {
     "data": {
      "image/png": "[encoded data removed]",
      "text/plain": [
       "<Figure size 640x480 with 1 Axes>"
      ]
     },
     "metadata": {},
     "output_type": "display_data"
    }
   ],
   "source": [
    "# Model's Loss evolution durring training\n",
    "plt.plot(history.history['loss'], label='Train Loss')\n",
    "plt.plot(history.history['val_loss'], label='Validation Loss')\n",
    "plt.title('Model Loss')\n",
    "plt.xlabel('Epoch')\n",
    "plt.ylabel('Loss')\n",
    "plt.legend()\n",
    "plt.show()"
   ]
  },
  {
   "cell_type": "code",
   "execution_count": 19,
   "id": "6c79c919",
   "metadata": {},
   "outputs": [
    {
     "name": "stdout",
     "output_type": "stream",
     "text": [
      "\u001b[1m1/1\u001b[0m \u001b[32m━━━━━━━━━━━━━━━━━━━━\u001b[0m\u001b[37m\u001b[0m \u001b[1m0s\u001b[0m 221ms/step\n",
      "Name: Michael → Predicted Gender: M (Confidence: 0.83) Expected: M \n",
      "None\n",
      "\u001b[1m1/1\u001b[0m \u001b[32m━━━━━━━━━━━━━━━━━━━━\u001b[0m\u001b[37m\u001b[0m \u001b[1m0s\u001b[0m 22ms/step\n",
      "Name: Michaela → Predicted Gender: F (Confidence: 0.02) Expected: F \n",
      "None\n",
      "\u001b[1m1/1\u001b[0m \u001b[32m━━━━━━━━━━━━━━━━━━━━\u001b[0m\u001b[37m\u001b[0m \u001b[1m0s\u001b[0m 25ms/step\n",
      "Name: Sophia → Predicted Gender: F (Confidence: 0.07) Expected: F \n",
      "None\n",
      "\u001b[1m1/1\u001b[0m \u001b[32m━━━━━━━━━━━━━━━━━━━━\u001b[0m\u001b[37m\u001b[0m \u001b[1m0s\u001b[0m 26ms/step\n",
      "Name: Liam → Predicted Gender: M (Confidence: 0.77) Expected: M \n",
      "None\n",
      "\u001b[1m1/1\u001b[0m \u001b[32m━━━━━━━━━━━━━━━━━━━━\u001b[0m\u001b[37m\u001b[0m \u001b[1m0s\u001b[0m 21ms/step\n",
      "Name: Isabella → Predicted Gender: F (Confidence: 0.00) Expected: F \n",
      "None\n",
      "\u001b[1m1/1\u001b[0m \u001b[32m━━━━━━━━━━━━━━━━━━━━\u001b[0m\u001b[37m\u001b[0m \u001b[1m0s\u001b[0m 23ms/step\n",
      "Name: Lucas → Predicted Gender: M (Confidence: 0.84) Expected: M \n",
      "None\n",
      "\u001b[1m1/1\u001b[0m \u001b[32m━━━━━━━━━━━━━━━━━━━━\u001b[0m\u001b[37m\u001b[0m \u001b[1m0s\u001b[0m 25ms/step\n",
      "Name: Zoe → Predicted Gender: M (Confidence: 0.74) Expected: F !!!\n",
      "None\n",
      "\u001b[1m1/1\u001b[0m \u001b[32m━━━━━━━━━━━━━━━━━━━━\u001b[0m\u001b[37m\u001b[0m \u001b[1m0s\u001b[0m 24ms/step\n",
      "Name: Ana → Predicted Gender: F (Confidence: 0.08) Expected: F \n",
      "None\n"
     ]
    }
   ],
   "source": [
    "# Step 9: Predict Gender for New Names\n",
    "def predict_gender(model, name, expected_gender=None):\n",
    "    name = name.lower()  # normalize\n",
    "    sequence = tokenizer.texts_to_sequences([name])\n",
    "    padded = pad_sequences(sequence, maxlen=maxlen)\n",
    "    pred_prob = model.predict(padded)[0][0]\n",
    "    \n",
    "    predicted_label = label_encoder.inverse_transform([int(round(pred_prob))])[0]\n",
    "    print(f\"Name: {name.capitalize()} → Predicted Gender: {predicted_label} (Confidence: {pred_prob:.2f}) Expected: {expected_gender} {'' if predicted_label == expected_gender else '!!!'}\")\n",
    "    #return f\"{name.capitalize()} → {gender} ({prob:.5f}), expected: {expected_gender}, Result: {'' if gender == expected_gender else '!!!'}\"\n",
    "\n",
    "# Examples\n",
    "print(predict_gender(model, \"Michael\", \"M\"))\n",
    "print(predict_gender(model, \"Michaela\", \"F\"))\n",
    "print(predict_gender(model, \"Sophia\", \"F\"))\n",
    "print(predict_gender(model, \"Liam\", \"M\"))\n",
    "print(predict_gender(model, \"Isabella\", \"F\"))\n",
    "print(predict_gender(model, \"Lucas\", \"M\"))\n",
    "print(predict_gender(model, \"Zoe\", \"F\"))\n",
    "print(predict_gender(model, \"Ana\", \"F\"))\n",
    "\n"
   ]
  },
  {
   "cell_type": "code",
   "execution_count": 20,
   "id": "5bafe833",
   "metadata": {},
   "outputs": [
    {
     "name": "stdout",
     "output_type": "stream",
     "text": [
      "\u001b[1m1/1\u001b[0m \u001b[32m━━━━━━━━━━━━━━━━━━━━\u001b[0m\u001b[37m\u001b[0m \u001b[1m0s\u001b[0m 23ms/step\n",
      "Name: Alexa → Predicted Gender: F (Confidence: 0.07) Expected: F \n",
      "None\n",
      "\u001b[1m1/1\u001b[0m \u001b[32m━━━━━━━━━━━━━━━━━━━━\u001b[0m\u001b[37m\u001b[0m \u001b[1m0s\u001b[0m 27ms/step\n",
      "Name: Jennie → Predicted Gender: F (Confidence: 0.28) Expected: F \n",
      "None\n",
      "\u001b[1m1/1\u001b[0m \u001b[32m━━━━━━━━━━━━━━━━━━━━\u001b[0m\u001b[37m\u001b[0m \u001b[1m0s\u001b[0m 24ms/step\n",
      "Name: Autumn → Predicted Gender: M (Confidence: 0.89) Expected: F !!!\n",
      "None\n",
      "\u001b[1m1/1\u001b[0m \u001b[32m━━━━━━━━━━━━━━━━━━━━\u001b[0m\u001b[37m\u001b[0m \u001b[1m0s\u001b[0m 25ms/step\n",
      "Name: Sadie → Predicted Gender: F (Confidence: 0.18) Expected: F \n",
      "None\n",
      "\u001b[1m1/1\u001b[0m \u001b[32m━━━━━━━━━━━━━━━━━━━━\u001b[0m\u001b[37m\u001b[0m \u001b[1m0s\u001b[0m 25ms/step\n",
      "Name: Gene → Predicted Gender: F (Confidence: 0.44) Expected: M !!!\n",
      "None\n",
      "\u001b[1m1/1\u001b[0m \u001b[32m━━━━━━━━━━━━━━━━━━━━\u001b[0m\u001b[37m\u001b[0m \u001b[1m0s\u001b[0m 24ms/step\n",
      "Name: Sam → Predicted Gender: M (Confidence: 0.81) Expected: M \n",
      "None\n"
     ]
    }
   ],
   "source": [
    "\n",
    "print(predict_gender(model, \"Alexa\", \"F\"))\n",
    "print(predict_gender(model, \"Jennie\", \"F\"))\n",
    "print(predict_gender(model, \"Autumn\", \"F\"))\n",
    "print(predict_gender(model, \"Sadie\", \"F\"))\n",
    "print(predict_gender(model, \"Gene\", \"M\"))\n",
    "print(predict_gender(model, \"Sam\", \"M\"))"
   ]
  },
  {
   "cell_type": "code",
   "execution_count": 21,
   "id": "9789a980",
   "metadata": {},
   "outputs": [
    {
     "name": "stdout",
     "output_type": "stream",
     "text": [
      "\u001b[1m1/1\u001b[0m \u001b[32m━━━━━━━━━━━━━━━━━━━━\u001b[0m\u001b[37m\u001b[0m \u001b[1m0s\u001b[0m 25ms/step\n",
      "Name: Florin → Predicted Gender: M (Confidence: 0.75) Expected: M \n",
      "None\n",
      "\u001b[1m1/1\u001b[0m \u001b[32m━━━━━━━━━━━━━━━━━━━━\u001b[0m\u001b[37m\u001b[0m \u001b[1m0s\u001b[0m 47ms/step\n",
      "Name: Florina → Predicted Gender: F (Confidence: 0.02) Expected: F \n",
      "None\n"
     ]
    }
   ],
   "source": [
    "print(predict_gender(model, \"Florin\", \"M\"))\n",
    "print(predict_gender(model, \"Florina\", \"F\"))"
   ]
  },
  {
   "cell_type": "code",
   "execution_count": 22,
   "id": "ceb27604",
   "metadata": {},
   "outputs": [
    {
     "name": "stdout",
     "output_type": "stream",
     "text": [
      "\u001b[1m1/1\u001b[0m \u001b[32m━━━━━━━━━━━━━━━━━━━━\u001b[0m\u001b[37m\u001b[0m \u001b[1m0s\u001b[0m 27ms/step\n",
      "Name: Marian → Predicted Gender: M (Confidence: 0.73) Expected: M \n",
      "None\n",
      "\u001b[1m1/1\u001b[0m \u001b[32m━━━━━━━━━━━━━━━━━━━━\u001b[0m\u001b[37m\u001b[0m \u001b[1m0s\u001b[0m 25ms/step\n",
      "Name: Maria → Predicted Gender: F (Confidence: 0.02) Expected: F \n",
      "None\n"
     ]
    }
   ],
   "source": [
    "print(predict_gender(model, \"Marian\", \"M\"))\n",
    "print(predict_gender(model, \"Maria\", \"F\"))"
   ]
  },
  {
   "cell_type": "code",
   "execution_count": 23,
   "id": "bd505aae",
   "metadata": {},
   "outputs": [
    {
     "name": "stdout",
     "output_type": "stream",
     "text": [
      "\u001b[1m1/1\u001b[0m \u001b[32m━━━━━━━━━━━━━━━━━━━━\u001b[0m\u001b[37m\u001b[0m \u001b[1m0s\u001b[0m 27ms/step\n",
      "Name: Marcel → Predicted Gender: M (Confidence: 0.72) Expected: M \n",
      "None\n",
      "\u001b[1m1/1\u001b[0m \u001b[32m━━━━━━━━━━━━━━━━━━━━\u001b[0m\u001b[37m\u001b[0m \u001b[1m0s\u001b[0m 25ms/step\n",
      "Name: Marcela → Predicted Gender: F (Confidence: 0.02) Expected: F \n",
      "None\n"
     ]
    }
   ],
   "source": [
    "print(predict_gender(model, \"Marcel\", \"M\"))\n",
    "print(predict_gender(model, \"Marcela\", \"F\"))"
   ]
  },
  {
   "cell_type": "code",
   "execution_count": 24,
   "id": "54c84bfa",
   "metadata": {},
   "outputs": [
    {
     "name": "stdout",
     "output_type": "stream",
     "text": [
      "\u001b[1m1/1\u001b[0m \u001b[32m━━━━━━━━━━━━━━━━━━━━\u001b[0m\u001b[37m\u001b[0m \u001b[1m0s\u001b[0m 24ms/step\n",
      "Name: Diego → Predicted Gender: M (Confidence: 0.91) Expected: M \n",
      "None\n",
      "\u001b[1m1/1\u001b[0m \u001b[32m━━━━━━━━━━━━━━━━━━━━\u001b[0m\u001b[37m\u001b[0m \u001b[1m0s\u001b[0m 26ms/step\n",
      "Name: Stefan → Predicted Gender: M (Confidence: 0.82) Expected: M \n",
      "None\n",
      "\u001b[1m1/1\u001b[0m \u001b[32m━━━━━━━━━━━━━━━━━━━━\u001b[0m\u001b[37m\u001b[0m \u001b[1m0s\u001b[0m 40ms/step\n",
      "Name: Stefania → Predicted Gender: F (Confidence: 0.02) Expected: F \n",
      "None\n"
     ]
    }
   ],
   "source": [
    "print(predict_gender(model, \"Diego\", \"M\"))\n",
    "print(predict_gender(model, \"Stefan\", \"M\"))\n",
    "print(predict_gender(model, \"Stefania\", \"F\"))\n"
   ]
  },
  {
   "cell_type": "code",
   "execution_count": 25,
   "id": "dca26a87",
   "metadata": {},
   "outputs": [],
   "source": [
    "#calculate if these are unseen names, calculate how many are correct \n",
    "#do more graphics if needed to better understand the model's performance\n",
    "# observations =>short names don't perform well, longer names are better\n",
    "# => \"Florina/Florin\" or \"Michael/Michaela\" are good examples, they are 90% similar, \n",
    "# it's detecting the diffrence in the last character that indicates the gender\n",
    "# => Suggestions: run training on a dataset with just these short/ambigous names, try it out (excercise)"
   ]
  },
  {
   "cell_type": "code",
   "execution_count": 26,
   "id": "4e3d34e4",
   "metadata": {},
   "outputs": [],
   "source": [
    "# Step 10: Save the model in Keras format\n",
    "save_filename = \"name_gender_model_82_trained_9590_rows.keras\"\n",
    "model.save(save_filename)\n",
    "#!!!! save the tokenizer and label encoder as well"
   ]
  },
  {
   "cell_type": "code",
   "execution_count": 27,
   "id": "5657444e",
   "metadata": {},
   "outputs": [],
   "source": [
    "# Step 11: Load the model and use it\n",
    "\n",
    "from tensorflow.keras.models import load_model\n",
    "\n",
    "model2 = load_model(save_filename)"
   ]
  },
  {
   "cell_type": "code",
   "execution_count": 28,
   "id": "ba98a651",
   "metadata": {},
   "outputs": [
    {
     "name": "stdout",
     "output_type": "stream",
     "text": [
      "\u001b[1m1/1\u001b[0m \u001b[32m━━━━━━━━━━━━━━━━━━━━\u001b[0m\u001b[37m\u001b[0m \u001b[1m0s\u001b[0m 208ms/step\n",
      "Name: Diego → Predicted Gender: M (Confidence: 0.91) Expected: M \n",
      "None\n",
      "\u001b[1m1/1\u001b[0m \u001b[32m━━━━━━━━━━━━━━━━━━━━\u001b[0m\u001b[37m\u001b[0m \u001b[1m0s\u001b[0m 23ms/step\n",
      "Name: Stefan → Predicted Gender: M (Confidence: 0.82) Expected: M \n",
      "None\n",
      "\u001b[1m1/1\u001b[0m \u001b[32m━━━━━━━━━━━━━━━━━━━━\u001b[0m\u001b[37m\u001b[0m \u001b[1m0s\u001b[0m 26ms/step\n",
      "Name: Stefania → Predicted Gender: F (Confidence: 0.02) Expected: F \n",
      "None\n",
      "\u001b[1m1/1\u001b[0m \u001b[32m━━━━━━━━━━━━━━━━━━━━\u001b[0m\u001b[37m\u001b[0m \u001b[1m0s\u001b[0m 22ms/step\n",
      "Name: Alexa → Predicted Gender: F (Confidence: 0.07) Expected: F \n",
      "None\n",
      "\u001b[1m1/1\u001b[0m \u001b[32m━━━━━━━━━━━━━━━━━━━━\u001b[0m\u001b[37m\u001b[0m \u001b[1m0s\u001b[0m 24ms/step\n",
      "Name: Jennie → Predicted Gender: F (Confidence: 0.28) Expected: F \n",
      "None\n",
      "\u001b[1m1/1\u001b[0m \u001b[32m━━━━━━━━━━━━━━━━━━━━\u001b[0m\u001b[37m\u001b[0m \u001b[1m0s\u001b[0m 21ms/step\n",
      "Name: Autumn → Predicted Gender: M (Confidence: 0.89) Expected: F !!!\n",
      "None\n",
      "\u001b[1m1/1\u001b[0m \u001b[32m━━━━━━━━━━━━━━━━━━━━\u001b[0m\u001b[37m\u001b[0m \u001b[1m0s\u001b[0m 25ms/step\n",
      "Name: Sadie → Predicted Gender: F (Confidence: 0.18) Expected: F \n",
      "None\n",
      "\u001b[1m1/1\u001b[0m \u001b[32m━━━━━━━━━━━━━━━━━━━━\u001b[0m\u001b[37m\u001b[0m \u001b[1m0s\u001b[0m 27ms/step\n",
      "Name: Gene → Predicted Gender: F (Confidence: 0.44) Expected: M !!!\n",
      "None\n",
      "\u001b[1m1/1\u001b[0m \u001b[32m━━━━━━━━━━━━━━━━━━━━\u001b[0m\u001b[37m\u001b[0m \u001b[1m0s\u001b[0m 22ms/step\n",
      "Name: Sam → Predicted Gender: M (Confidence: 0.81) Expected: M \n",
      "None\n"
     ]
    }
   ],
   "source": [
    "print(predict_gender(model2, \"Diego\", \"M\"))\n",
    "print(predict_gender(model2, \"Stefan\", \"M\"))\n",
    "print(predict_gender(model2, \"Stefania\", \"F\"))\n",
    "print(predict_gender(model2, \"Alexa\", \"F\"))\n",
    "print(predict_gender(model2, \"Jennie\", \"F\"))\n",
    "print(predict_gender(model2, \"Autumn\", \"F\"))\n",
    "print(predict_gender(model2, \"Sadie\", \"F\"))\n",
    "print(predict_gender(model2, \"Gene\", \"M\"))\n",
    "print(predict_gender(model2, \"Sam\", \"M\"))"
   ]
  },
  {
   "cell_type": "code",
   "execution_count": null,
   "id": "578f35cf",
   "metadata": {},
   "outputs": [],
   "source": []
  }
 ],
 "metadata": {
  "kernelspec": {
   "display_name": "Python 3",
   "language": "python",
   "name": "python3"
  },
  "language_info": {
   "codemirror_mode": {
    "name": "ipython",
    "version": 3
   },
   "file_extension": ".py",
   "mimetype": "text/x-python",
   "name": "python",
   "nbconvert_exporter": "python",
   "pygments_lexer": "ipython3",
   "version": "3.12.6"
  }
 },
 "nbformat": 4,
 "nbformat_minor": 5
}
